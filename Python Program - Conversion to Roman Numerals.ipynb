{
 "cells": [
  {
   "cell_type": "markdown",
   "id": "f78873e3",
   "metadata": {},
   "source": [
    "### Create a function that converts ordinary numbers into Roman Numerals. Here are the conversions: 'M'=1000, 'D'=500, 'C'=100, 'L'=50, 'X'=10, 'V'=5,'I'=1, 'IV' = 4 and 'XL' = 40.\n",
    "\n",
    "Integer numbers and their Roman equivalent:\n",
    "1000 : 'M'\n",
    "900 : 'CM'\n",
    "500 : 'D'\n",
    "400 : 'CD'\n",
    "100 : 'C'\n",
    "90 : 'XC'\n",
    "50 : 'L'\n",
    "40 : 'XL'\n",
    "10 : 'X'\n",
    "9 : 'IX'\n",
    "5 : 'V'\n",
    "4: 'IV'\n",
    "1: 'I'\n",
    "\n",
    "SAMPLE INPUT:\n",
    "\n",
    "Enter number to Convert: 417\n",
    "\n",
    "SAMPLE OUTPUT:\n",
    "\n",
    "CDXVII# "
   ]
  },
  {
   "cell_type": "code",
   "execution_count": 1,
   "id": "6a136706",
   "metadata": {},
   "outputs": [
    {
     "name": "stdout",
     "output_type": "stream",
     "text": [
      "Enter number : 28\n",
      "XXVIII\n"
     ]
    }
   ],
   "source": [
    "def transform(j):\n",
    "    num_1 = [ 1000, 900, 500, 400,100, 90, 50, 40,10, 9, 5, 4,1 ]\n",
    "    num_2= [\"M\", \"CM\", \"D\", \"CD\",\"C\", \"XC\", \"L\", \"XL\",\"X\", \"IX\", \"V\", \"IV\",\"I\"]\n",
    "    num_3 = ''\n",
    "    i = 0\n",
    "    while  j > 0:\n",
    "        q= j // num_1[i]\n",
    "        for _ in range(q):\n",
    "            q= j // num_1[i]\n",
    "            num_3 +=  q * num_2[i]\n",
    "            j -= q*num_1[i]\n",
    "        i += 1\n",
    "    return num_3\n",
    "    \n",
    "j=int(input('Enter number : '))\n",
    "print(transform(j))"
   ]
  },
  {
   "cell_type": "code",
   "execution_count": null,
   "id": "46a815d7",
   "metadata": {},
   "outputs": [],
   "source": []
  }
 ],
 "metadata": {
  "kernelspec": {
   "display_name": "Python 3 (ipykernel)",
   "language": "python",
   "name": "python3"
  },
  "language_info": {
   "codemirror_mode": {
    "name": "ipython",
    "version": 3
   },
   "file_extension": ".py",
   "mimetype": "text/x-python",
   "name": "python",
   "nbconvert_exporter": "python",
   "pygments_lexer": "ipython3",
   "version": "3.10.9"
  }
 },
 "nbformat": 4,
 "nbformat_minor": 5
}
