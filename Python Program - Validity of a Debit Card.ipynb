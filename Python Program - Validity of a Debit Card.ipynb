{
 "cells": [
  {
   "cell_type": "markdown",
   "id": "0df8e1d2",
   "metadata": {},
   "source": [
    "# Python Coding Question"
   ]
  },
  {
   "cell_type": "markdown",
   "id": "a3bbfb99",
   "metadata": {},
   "source": [
    "### 1. Write a Python program to check the validity of a debit card.\n",
    "\n",
    "a) Verify and ensure that the length of the debit card is 14.\n",
    "\n",
    "b) Verify that the year printed on the debit card should be either 2020 or greater than 2020. If the year is less than 2020, user should get a message that the card expired.\n",
    "\n",
    "c)Verify that the month number printed in the card should be between 1 and 12. Any number less than 1 and any number greater than 12 should be invalid.\n",
    "\n",
    "d) Enter the CVV number printed on the debit card and ensure that the length is neither less than 3 nor greater than 3."
   ]
  },
  {
   "cell_type": "markdown",
   "id": "6a9e6ae8",
   "metadata": {},
   "source": [
    "**SAMPLE INPUT AND OUTPUT:**\n",
    "\n",
    "Enter the debit card number                            12345676543218\n",
    "The length of the card is valid\n",
    "\n",
    "Please enter the year that is printed on the card      2020\n",
    "\n",
    "your card is valid\n",
    "\n",
    "Enter the month that is printed on the card            12\n",
    "The month is valid\n",
    "\n",
    "Enter the cvv number printed on the card               234\n",
    "\n",
    "The CVV number is valid"
   ]
  },
  {
   "cell_type": "code",
   "execution_count": 2,
   "id": "62161d5e",
   "metadata": {},
   "outputs": [
    {
     "name": "stdout",
     "output_type": "stream",
     "text": [
      "Enter the debit card number: 1234567890123\n",
      "The length of the card is invalid\n",
      "Please enter the year that is printed on the card: 2022\n",
      "your card is valid\n",
      "Enter the month that is printed on the card: 06\n",
      "The month is valid\n",
      "Enter the cvv number printed on the card: 1234\n",
      "the cvv number is invalid\n"
     ]
    }
   ],
   "source": [
    "card=int(input(\"Enter the debit card number: \"))\n",
    "card_str=str(card)\n",
    "if len(card_str)<14 or len(card_str)>14:\n",
    "    print(\"The length of the card is invalid\")\n",
    "else:\n",
    "    print(\"The length of the card is valid\")\n",
    "    \n",
    "yy=int(input(\"Please enter the year that is printed on the card: \"))    \n",
    "if yy>=2020:\n",
    "    print(\"your card is valid\")\n",
    "else:\n",
    "    print(\"your card is invalid\")\n",
    "mm=int(input(\"Enter the month that is printed on the card: \"))\n",
    "#mm_str=str(mm)\n",
    "if mm<1 or mm>12:\n",
    "    print(\"The month is invalid\")\n",
    "else:\n",
    "    print(\"The month is valid\")\n",
    "\n",
    "cvv=int(input(\"Enter the cvv number printed on the card: \"))\n",
    "cvv_str=str(cvv)\n",
    "if len(cvv_str)<3 or len(cvv_str)>3:\n",
    "    print(\"the cvv number is invalid\")\n",
    "else:\n",
    "    print(\"The CVV number is valid\")\n",
    "    \n",
    "    "
   ]
  }
 ],
 "metadata": {
  "kernelspec": {
   "display_name": "Python 3 (ipykernel)",
   "language": "python",
   "name": "python3"
  },
  "language_info": {
   "codemirror_mode": {
    "name": "ipython",
    "version": 3
   },
   "file_extension": ".py",
   "mimetype": "text/x-python",
   "name": "python",
   "nbconvert_exporter": "python",
   "pygments_lexer": "ipython3",
   "version": "3.10.9"
  }
 },
 "nbformat": 4,
 "nbformat_minor": 5
}
