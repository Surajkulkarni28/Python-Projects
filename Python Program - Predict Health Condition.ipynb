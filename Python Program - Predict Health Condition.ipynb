{
 "cells": [
  {
   "cell_type": "markdown",
   "id": "32e36d81",
   "metadata": {},
   "source": [
    "# In a pathology lab test, there is n number of samples for testing the health condition of a patient, each slide has 5 components, Sugar level, Blood pressure, Heartbeat rate, weight, fat percentage, based on input as provided by the patient's blood report. \n",
    "\n",
    "A.\tCreate a sample input for a healthy patient and also take random samples from a patient like \n",
    "\n",
    "\"Sugar level\":75, \"Blood pressure\":110, \"Heartbeat rate\":71, \"weight\":65, \"fat percentage\":10\n",
    "\n",
    "B.\tCompare inputs with healthy patient data. If the patient data is not matching with the healthy patient’s data, provide a warning.\n",
    "\n",
    "C.\tProvide difference in readings to the patient.\n",
    "\n",
    "**SAMPLE INPUT:**\n",
    "\n",
    "\tSugar level100\n",
    "    Blood pressure90\n",
    "    Heartbeat rate71\n",
    "    weight92\n",
    "    fat percentage12\n",
    "    \n",
    "**SAMPLE OUTPUT:**\n",
    "\n",
    "    {'Sugar level': 100, 'Blood pressure': 90, 'Heartbeat rate': 71, 'weight': 92, 'fat percentage': 12}\n",
    "    Sugar level is 25 greater than ideal value\n",
    "    Blood pressure is 20 less than ideal value\n",
    "    Heartbeat rate ideal value\n",
    "    weight is 27 greater than ideal value\n",
    "    fat percentage is 2 greater than ideal value"
   ]
  },
  {
   "cell_type": "code",
   "execution_count": 5,
   "id": "1d618fa2",
   "metadata": {},
   "outputs": [
    {
     "name": "stdout",
     "output_type": "stream",
     "text": [
      "Sugar level: 100\n",
      "Blood pressure: 100\n",
      "Heartbeat rate: 100\n",
      "Weight: 100\n",
      "Fat percentage: 25\n",
      "Patient’s health report:\n",
      "{'Sugar level': 100, 'Blood pressure': 100, 'Heartbeat rate': 100, 'Weight': 100, 'Fat percentage': 25}\n",
      "Sugar level is 25 greater than ideal value\n",
      "Blood pressure is 10 less than ideal value\n",
      "Heartbeat rate is 29 greater than ideal value\n",
      "Weight is 35 greater than ideal value\n",
      "Fat percentage is 15 greater than ideal value\n"
     ]
    }
   ],
   "source": [
    "ideal_patient_data = {\"Sugar level\":75, \"Blood pressure\":110, \"Heartbeat rate\":71, \"Weight\":65, \n",
    "                      \"Fat percentage\":10}\n",
    "new_patient_data = {}\n",
    "sugar = input(\"Sugar level: \")\n",
    "pressure = input(\"Blood pressure: \")\n",
    "heart_rate = input(\"Heartbeat rate: \")\n",
    "weight = input(\"Weight: \")\n",
    "fat = input(\"Fat percentage: \")\n",
    "\n",
    "#match\n",
    "\n",
    "new_patient_data[\"Sugar level\"] = int(sugar)\n",
    "new_patient_data[\"Blood pressure\"] = int(pressure)\n",
    "new_patient_data[\"Heartbeat rate\"] = int(heart_rate)\n",
    "new_patient_data[\"Weight\"] = int(weight)\n",
    "new_patient_data[\"Fat percentage\"] =int(fat)\n",
    "print('Patient’s health report:')\n",
    "print(new_patient_data)\n",
    "\n",
    "new_patient_data[\"Sugar level\"] = int(sugar)-ideal_patient_data[\"Sugar level\"] \n",
    "new_patient_data[\"Blood pressure\"] = int(pressure)- ideal_patient_data[\"Blood pressure\"]  \n",
    "new_patient_data[\"Heartbeat rate\"] = int(heart_rate)-ideal_patient_data[\"Heartbeat rate\"]\n",
    "new_patient_data[\"Weight\"] = int(weight) - ideal_patient_data[\"Weight\"]\n",
    "new_patient_data[\"Fat percentage\"] =int(fat) -ideal_patient_data[\"Fat percentage\"]\n",
    "\n",
    "for key, value in new_patient_data.items():\n",
    "    if value == 0:\n",
    "        print(\"%s has ideal value\" % (key))\n",
    "    elif value < 0:\n",
    "        print(\"%s is %s less than ideal value\" % (key, abs(new_patient_data[key])))\n",
    "    elif value > 0:            \n",
    "        print(\"%s is %s greater than ideal value\" % (key, new_patient_data[key]))\n",
    "    else:\n",
    "        print(\"wrong input\")    "
   ]
  },
  {
   "cell_type": "code",
   "execution_count": null,
   "id": "e84f7d0d",
   "metadata": {},
   "outputs": [],
   "source": []
  }
 ],
 "metadata": {
  "kernelspec": {
   "display_name": "Python 3 (ipykernel)",
   "language": "python",
   "name": "python3"
  },
  "language_info": {
   "codemirror_mode": {
    "name": "ipython",
    "version": 3
   },
   "file_extension": ".py",
   "mimetype": "text/x-python",
   "name": "python",
   "nbconvert_exporter": "python",
   "pygments_lexer": "ipython3",
   "version": "3.10.9"
  }
 },
 "nbformat": 4,
 "nbformat_minor": 5
}
