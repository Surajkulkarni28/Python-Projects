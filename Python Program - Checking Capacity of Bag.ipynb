{
 "cells": [
  {
   "cell_type": "markdown",
   "id": "4bea226e",
   "metadata": {},
   "source": [
    "### We are given a set of n items. Each item i has a weight w(i) and a value v(i) where 0 <= i < n. We are given a maximum capacity of a bag B. The problem is to find what all items we should take such that the total weight does not exceed w and the total value is maximized. \n",
    " \n",
    " Step1: Take the following inputs from User\n",
    "  Number of items (n)\n",
    " Maximum capacity of the bag (w)\n",
    " Take weight and value for all 'n' items\n",
    " \n",
    " Step 2: Maintain a Nested list (item_list) of all items [weight, value, profit/weight]\n",
    " \n",
    " Step 3: Sort this list(item_list) according to ratio Profit/Weight of each item\n",
    " \n",
    " Step 4: Display the items weight and their value in such a way that after adding them in a bag of capacity 'w’, Total weight of the bag should not get exceeded by 'w'\n",
    "  \n",
    " Sample Input:\n",
    " \n",
    " Enter the number of items : 3\n",
    " \n",
    " Enter the capacity of the bag: 10\n",
    " \n",
    " enter weights for item 1 : 3\n",
    " \n",
    " enter Profit for item 1: 2\n",
    " \n",
    " enter weights for item 2: 4\n",
    " \n",
    " enter Profit for item 2: 10\n",
    " \n",
    " enter weights for item 3: 5\n",
    " \n",
    " enter Profit for item 3: 20\n",
    " \n",
    " \n",
    " Sample Output:\n",
    " \n",
    " Added Weight 5 with Profit 20 in bag\n",
    " \n",
    " Added Weight 4 with Profit 10 in bag"
   ]
  },
  {
   "cell_type": "code",
   "execution_count": 2,
   "id": "10cdb5ec",
   "metadata": {},
   "outputs": [
    {
     "name": "stdout",
     "output_type": "stream",
     "text": [
      "Enter number of items : 3\n",
      "Enter capacity of bag : 10\n",
      "enter weights for item 1 : 3\n",
      "enter Profit for item 1 : 2\n",
      "enter weights for item 2 : 4\n",
      "enter Profit for item 2 : 10\n",
      "enter weights for item 3 : 5\n",
      "enter Profit for item 3 : 20\n",
      "Added Weight 5 with Profit 20 in bag\n",
      "Added Weight 4 with Profit 10 in bag\n"
     ]
    }
   ],
   "source": [
    "n= int(input(\"Enter number of items : \"))\n",
    "w= int(input('Enter capacity of bag : '))\n",
    "w_list=[]\n",
    "p_list=[]\n",
    "for i in range(n):\n",
    "    w_list.append(int(input(\"enter weights for item {0} : \".format(i+1))))\n",
    "    \n",
    "    p_list.append(int(input('enter Profit for item {0} : '.format(i+1))))\n",
    "item_list=[]\n",
    "for i in range(n):\n",
    "    item_list.append([w_list[i],p_list[i],p_list[i]/w_list[i]])\n",
    " \n",
    "def sortthird(val): \n",
    "    return val[2]  \n",
    "\n",
    "\n",
    "item_list.sort(key = sortthird, reverse = True) \n",
    "\n",
    "\n",
    "bag_sum=0\n",
    "for i in item_list:\n",
    "    if bag_sum + i[0] <= w:\n",
    "        bag_sum=bag_sum + i[0]\n",
    "        print('Added Weight {0} with Profit {1} in bag'.format(i[0],i[1]))\n",
    "    else:\n",
    "        break"
   ]
  },
  {
   "cell_type": "code",
   "execution_count": null,
   "id": "196c096f",
   "metadata": {},
   "outputs": [],
   "source": []
  }
 ],
 "metadata": {
  "kernelspec": {
   "display_name": "Python 3 (ipykernel)",
   "language": "python",
   "name": "python3"
  },
  "language_info": {
   "codemirror_mode": {
    "name": "ipython",
    "version": 3
   },
   "file_extension": ".py",
   "mimetype": "text/x-python",
   "name": "python",
   "nbconvert_exporter": "python",
   "pygments_lexer": "ipython3",
   "version": "3.10.9"
  }
 },
 "nbformat": 4,
 "nbformat_minor": 5
}
